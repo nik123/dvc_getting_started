{
 "cells": [
  {
   "cell_type": "markdown",
   "metadata": {},
   "source": [
    "# DVC Getting Started"
   ]
  },
  {
   "cell_type": "markdown",
   "metadata": {},
   "source": [
    "В этом ноутбуке показаны основы работы с DVC на примере двух человек: Алисы 👩 и Боба 👨. \n",
    "Алиса настраивает DVC и создает пайплайн.\n",
    "Боб воспроизводит результаты Алисы."
   ]
  },
  {
   "cell_type": "markdown",
   "metadata": {},
   "source": [
    "# Подготовка"
   ]
  },
  {
   "cell_type": "markdown",
   "metadata": {},
   "source": [
    "Чтобы освоить dvc нам понадобится несколько репозиториев:\n",
    "- один git-репозиторий, который будет выполнять роль remote/origin.\n",
    "- 2 локальных git-репозитория - один для Алисы, другой для Боба.\n",
    "- 1 dvc-хранилище."
   ]
  },
  {
   "cell_type": "markdown",
   "metadata": {},
   "source": [
    "Настроим перечисленные репозитории:"
   ]
  },
  {
   "cell_type": "code",
   "execution_count": 1,
   "metadata": {},
   "outputs": [],
   "source": [
    "import os\n",
    "from os.path import expanduser\n",
    "\n",
    "# Библиотека для репозиториев \n",
    "ROOT_DIR = os.path.join(expanduser(\"~\"), 'tmp_dvc')\n",
    "GIT_REMOTE = os.path.join(ROOT_DIR, 'git_remote')\n",
    "DVC_REMOTE = os.path.join(ROOT_DIR, 'dvc_remote')\n",
    "ALICE_DIR = os.path.join(ROOT_DIR, 'Alice')\n",
    "BOB_DIR = os.path.join(ROOT_DIR, 'Bob')\n",
    "\n",
    "os.makedirs(GIT_REMOTE)\n",
    "os.makedirs(DVC_REMOTE)\n",
    "os.makedirs(ALICE_DIR)\n",
    "os.makedirs(BOB_DIR)"
   ]
  },
  {
   "cell_type": "code",
   "execution_count": 2,
   "metadata": {},
   "outputs": [
    {
     "name": "stdout",
     "output_type": "stream",
     "text": [
      "Инициализирован пустой репозиторий Git в /home/nik/tmp_dvc/git_remote/\r\n"
     ]
    }
   ],
   "source": [
    "# Initialize git remote repository\n",
    "!git init --bare $GIT_REMOTE"
   ]
  },
  {
   "cell_type": "markdown",
   "metadata": {},
   "source": [
    "# Первый пользователь"
   ]
  },
  {
   "cell_type": "markdown",
   "metadata": {},
   "source": [
    "Инициализируем репозиторий для первого пользователя"
   ]
  },
  {
   "cell_type": "code",
   "execution_count": 3,
   "metadata": {},
   "outputs": [
    {
     "name": "stdout",
     "output_type": "stream",
     "text": [
      "Клонирование в «/home/nik/tmp_dvc/Alice»…\n",
      "warning: Похоже, что вы клонировали пустой репозиторий.\n",
      "готово.\n"
     ]
    }
   ],
   "source": [
    "!git clone $GIT_REMOTE $ALICE_DIR"
   ]
  },
  {
   "cell_type": "markdown",
   "metadata": {},
   "source": [
    "## Создание файлов для обучения"
   ]
  },
  {
   "cell_type": "markdown",
   "metadata": {},
   "source": [
    "У первого пользователь создадим датасет для обучения.\n",
    "Это будет CSV с датасетом вин (https://archive.ics.uci.edu/ml/datasets/wine+quality)\n",
    "Позже мы добавим этот файл под контроль DVC."
   ]
  },
  {
   "cell_type": "code",
   "execution_count": 4,
   "metadata": {},
   "outputs": [],
   "source": [
    "csv_path = os.path.join(ALICE_DIR, 'winequality-red.csv')\n",
    "!cp 'winequality-red.csv' $csv_path"
   ]
  },
  {
   "cell_type": "markdown",
   "metadata": {},
   "source": [
    "Создадим в репозитории первого пользователя скрипт, который будет обучать модель:"
   ]
  },
  {
   "cell_type": "code",
   "execution_count": 5,
   "metadata": {},
   "outputs": [],
   "source": [
    "script_path = os.path.join(ALICE_DIR, 'train_model.py')\n",
    "!cp 'train_model.py' $script_path"
   ]
  },
  {
   "cell_type": "markdown",
   "metadata": {},
   "source": [
    "## Настройка DVC"
   ]
  },
  {
   "cell_type": "code",
   "execution_count": 6,
   "metadata": {},
   "outputs": [
    {
     "name": "stdout",
     "output_type": "stream",
     "text": [
      "/home/nik/tmp_dvc/Alice\n",
      "\u001b[KAdding '.dvc/state' to '.dvc/.gitignore'.\n",
      "\u001b[KAdding '.dvc/lock' to '.dvc/.gitignore'.\n",
      "\u001b[KAdding '.dvc/config.local' to '.dvc/.gitignore'.\n",
      "\u001b[KAdding '.dvc/updater' to '.dvc/.gitignore'.\n",
      "\u001b[KAdding '.dvc/updater.lock' to '.dvc/.gitignore'.\n",
      "\u001b[KAdding '.dvc/state-journal' to '.dvc/.gitignore'.\n",
      "\u001b[KAdding '.dvc/state-wal' to '.dvc/.gitignore'.\n",
      "\u001b[KAdding '.dvc/cache' to '.dvc/.gitignore'.\n",
      "\u001b[K\n",
      "You can now commit the changes to git.\n",
      "\n",
      "\u001b[K\u001b[31m+---------------------------------------------------------------------+\n",
      "\u001b[39m\u001b[31m|\u001b[39m                                                                     \u001b[31m|\u001b[39m\n",
      "\u001b[31m|\u001b[39m        DVC has enabled anonymous aggregate usage analytics.         \u001b[31m|\u001b[39m\n",
      "\u001b[31m|\u001b[39m     Read the analytics documentation (and how to opt-out) here:     \u001b[31m|\u001b[39m\n",
      "\u001b[31m|\u001b[39m              \u001b[34mhttps://dvc.org/doc/user-guide/analytics\u001b[39m               \u001b[31m|\u001b[39m\n",
      "\u001b[31m|\u001b[39m                                                                     \u001b[31m|\u001b[39m\n",
      "\u001b[31m+---------------------------------------------------------------------+\n",
      "\u001b[39m\n",
      "\u001b[K\u001b[33mWhat's next?\u001b[39m\n",
      "\u001b[33m------------\u001b[39m\n",
      "- Check out the documentation: \u001b[34mhttps://dvc.org/doc\u001b[39m\n",
      "- Get help and share ideas: \u001b[34mhttps://dvc.org/chat\u001b[39m\n",
      "- Star us on GitHub: \u001b[34mhttps://github.com/iterative/dvc\u001b[39m\n",
      "\u001b[0m"
     ]
    }
   ],
   "source": [
    "# Перейти в каталог первого пользователя\n",
    "%cd $ALICE_DIR\n",
    "\n",
    "# Инициализация dvc в репозитории\n",
    "!dvc init"
   ]
  },
  {
   "cell_type": "markdown",
   "metadata": {},
   "source": [
    "Если выполнить команду `git status`, то мы увидим, что появился каталог `.dvc` с файлами `config` и `.gitignore`"
   ]
  },
  {
   "cell_type": "code",
   "execution_count": 7,
   "metadata": {},
   "outputs": [
    {
     "name": "stdout",
     "output_type": "stream",
     "text": [
      "На ветке master\r\n",
      "\r\n",
      "Еще нет коммитов\r\n",
      "\r\n",
      "Изменения, которые будут включены в коммит:\r\n",
      "  (используйте «git rm --cached <файл>…», чтобы убрать из индекса)\r\n",
      "\r\n",
      "\t\u001b[32mновый файл:    .dvc/.gitignore\u001b[m\r\n",
      "\t\u001b[32mновый файл:    .dvc/config\u001b[m\r\n",
      "\r\n",
      "Неотслеживаемые файлы:\r\n",
      "  (используйте «git add <файл>…», чтобы добавить в то, что будет включено в коммит)\r\n",
      "\r\n",
      "\t\u001b[31mtrain_model.py\u001b[m\r\n",
      "\t\u001b[31mwinequality-red.csv\u001b[m\r\n",
      "\r\n"
     ]
    }
   ],
   "source": [
    "# Показать что изменилось в репозитории\n",
    "!git status"
   ]
  },
  {
   "cell_type": "markdown",
   "metadata": {},
   "source": [
    "Для работы dvc необходим удаленный репозиторий для хранения всех данных. Добавим его:"
   ]
  },
  {
   "cell_type": "code",
   "execution_count": 8,
   "metadata": {},
   "outputs": [
    {
     "name": "stdout",
     "output_type": "stream",
     "text": [
      "\u001b[0m"
     ]
    }
   ],
   "source": [
    "!dvc remote add myremote $DVC_REMOTE"
   ]
  },
  {
   "cell_type": "markdown",
   "metadata": {},
   "source": [
    "Добавим наш датасет под контроль DVC:"
   ]
  },
  {
   "cell_type": "code",
   "execution_count": 9,
   "metadata": {},
   "outputs": [
    {
     "name": "stdout",
     "output_type": "stream",
     "text": [
      "\u001b[KAdding 'winequality-red.csv' to '.gitignore'.\n",
      "\u001b[KSaving 'winequality-red.csv' to '.dvc/cache/2d/aeecee174368f8a33b82c8cccae3a5'.\n",
      "\u001b[KSaving information to 'winequality-red.csv.dvc'.\n",
      "\u001b[K\n",
      "To track the changes with git run:\n",
      "\n",
      "\tgit add .gitignore winequality-red.csv.dvc\n",
      "\u001b[0m"
     ]
    }
   ],
   "source": [
    "!dvc add 'winequality-red.csv'"
   ]
  },
  {
   "cell_type": "markdown",
   "metadata": {},
   "source": [
    "После `git add` появится новый файл 'winequality-red.csv.dvc', а csv-файл будет добавлен в `.gitignore`. При работе с DVCS именно файлы с расширением `*.dvc` должны находиться под контролем git, а реальные файлы должны храниться в кэше DVC и хранилище DVC."
   ]
  },
  {
   "cell_type": "markdown",
   "metadata": {},
   "source": [
    "Сохраним наш прогресс:"
   ]
  },
  {
   "cell_type": "code",
   "execution_count": 10,
   "metadata": {},
   "outputs": [
    {
     "name": "stdout",
     "output_type": "stream",
     "text": [
      "[master (корневой коммит) 7dbc04b] Initialized dataset\r\n",
      " 5 files changed, 72 insertions(+)\r\n",
      " create mode 100644 .dvc/.gitignore\r\n",
      " create mode 100644 .dvc/config\r\n",
      " create mode 100644 .gitignore\r\n",
      " create mode 100644 train_model.py\r\n",
      " create mode 100644 winequality-red.csv.dvc\r\n"
     ]
    }
   ],
   "source": [
    "!git add .\n",
    "!git commit -m \"Initialized dataset\""
   ]
  },
  {
   "cell_type": "markdown",
   "metadata": {},
   "source": [
    "Убедимся, что в remote-репозитории dvc наши данные отсутствуют:"
   ]
  },
  {
   "cell_type": "code",
   "execution_count": 11,
   "metadata": {},
   "outputs": [
    {
     "name": "stdout",
     "output_type": "stream",
     "text": [
      "\u001b[KPreparing to collect status from /home/nik/tmp_dvc/dvc_remote\n",
      "\u001b[K[##############################] 100% Collecting information\n",
      "\u001b[Knew:                winequality-red.csv\n",
      "\u001b[0m"
     ]
    }
   ],
   "source": [
    "!dvc status -r myremote"
   ]
  },
  {
   "cell_type": "markdown",
   "metadata": {},
   "source": [
    "Запушим наш прогресс:"
   ]
  },
  {
   "cell_type": "code",
   "execution_count": 12,
   "metadata": {},
   "outputs": [
    {
     "name": "stdout",
     "output_type": "stream",
     "text": [
      "\u001b[KPreparing to upload data to '/home/nik/tmp_dvc/dvc_remote'\n",
      "\u001b[KPreparing to collect status from /home/nik/tmp_dvc/dvc_remote\n",
      "\u001b[K[##############################] 100% Collecting information\n",
      "\u001b[K[##############################] 100% Analysing status.\n",
      "\u001b[K[##############################] 100% winequality-red.csv\n",
      "\u001b[0m"
     ]
    }
   ],
   "source": [
    "# \"dvc push\" обязателен! Иначе у пользователей не будет возможности получить файлы под контролем DVC!!!\n",
    "!dvc push -r myremote"
   ]
  },
  {
   "cell_type": "code",
   "execution_count": 13,
   "metadata": {},
   "outputs": [
    {
     "name": "stdout",
     "output_type": "stream",
     "text": [
      "Подсчет объектов: 8, готово.\r\n",
      "Delta compression using up to 4 threads.\r\n",
      "Сжатие объектов:  14% (1/7)   \r",
      "Сжатие объектов:  28% (2/7)   \r",
      "Сжатие объектов:  42% (3/7)   \r",
      "Сжатие объектов:  57% (4/7)   \r",
      "Сжатие объектов:  71% (5/7)   \r",
      "Сжатие объектов:  85% (6/7)   \r",
      "Сжатие объектов: 100% (7/7)   \r",
      "Сжатие объектов: 100% (7/7), готово.\r\n",
      "Запись объектов:  12% (1/8)   \r",
      "Запись объектов:  25% (2/8)   \r",
      "Запись объектов:  37% (3/8)   \r",
      "Запись объектов:  50% (4/8)   \r",
      "Запись объектов:  62% (5/8)   \r",
      "Запись объектов:  75% (6/8)   \r",
      "Запись объектов:  87% (7/8)   \r",
      "Запись объектов: 100% (8/8)   \r",
      "Запись объектов: 100% (8/8), 1.26 KiB | 1.26 MiB/s, готово.\r\n",
      "Total 8 (delta 0), reused 0 (delta 0)\r\n",
      "To /home/nik/tmp_dvc/git_remote\r\n",
      " * [new branch]      master -> master\r\n"
     ]
    }
   ],
   "source": [
    "!git push"
   ]
  },
  {
   "cell_type": "markdown",
   "metadata": {},
   "source": [
    "## Обновление файлов под контролем DVC"
   ]
  },
  {
   "cell_type": "markdown",
   "metadata": {},
   "source": [
    "Рано или поздно нам понадобиться обновлять файлы под DVC-контролем.\n",
    "\n",
    "Покажем как это делается:"
   ]
  },
  {
   "cell_type": "code",
   "execution_count": 14,
   "metadata": {},
   "outputs": [],
   "source": [
    "# Дополним наш датасет новыми данными:\n",
    "!echo '6;0.31;0.47;3.6;0.067;18;42;0.99549;3.39;0.66;11;6' >> 'winequality-red.csv'"
   ]
  },
  {
   "cell_type": "markdown",
   "metadata": {},
   "source": [
    "dvc заметит, что файлы изменились:"
   ]
  },
  {
   "cell_type": "code",
   "execution_count": 15,
   "metadata": {},
   "outputs": [
    {
     "name": "stdout",
     "output_type": "stream",
     "text": [
      "\u001b[Kwinequality-red.csv.dvc:\n",
      "\u001b[K\tchanged outs:\n",
      "\u001b[K\t\tmodified:           winequality-red.csv\n",
      "\u001b[0m"
     ]
    }
   ],
   "source": [
    "!dvc status"
   ]
  },
  {
   "cell_type": "markdown",
   "metadata": {},
   "source": [
    "Добавим изменения в кэш DVC:"
   ]
  },
  {
   "cell_type": "code",
   "execution_count": 16,
   "metadata": {},
   "outputs": [
    {
     "name": "stdout",
     "output_type": "stream",
     "text": [
      "\u001b[K\u001b[33mWARNING\u001b[39m: Output 'winequality-red.csv' of 'winequality-red.csv.dvc' changed because it is 'modified'\n",
      "\u001b[KSaving 'winequality-red.csv' to '.dvc/cache/9e/55c66554e24691183fa3a2e5ae3c9d'.\n",
      "\u001b[KSaving information to 'winequality-red.csv.dvc'.\n",
      "\u001b[K\n",
      "To track the changes with git run:\n",
      "\n",
      "\tgit add winequality-red.csv.dvc\n",
      "\u001b[0m"
     ]
    }
   ],
   "source": [
    "!dvc add winequality-red.csv"
   ]
  },
  {
   "cell_type": "markdown",
   "metadata": {},
   "source": [
    "**ВАЖНО!!!**\n",
    "\n",
    "Обновлять файлы нужно осторожно. Если в DVC изменяли параметр cache.type на значения hardlink и/или symlink (значения по умолчанию - reflink,copy), то нужно сначала убрать файл из под контроля DVC. Подробнее см. https://dvc.org/doc/user-guide/update-tracked-file"
   ]
  },
  {
   "cell_type": "markdown",
   "metadata": {},
   "source": [
    "## Создание DVC-пайплайнов"
   ]
  },
  {
   "cell_type": "markdown",
   "metadata": {},
   "source": [
    "В этом разделе мы:\n",
    "- Обучим нашу модель\n",
    "- Дадим другим пользователям возможность воспроизвести результаты экспериментов без переобучения всей модели"
   ]
  },
  {
   "cell_type": "code",
   "execution_count": 17,
   "metadata": {},
   "outputs": [],
   "source": [
    "import sklearn"
   ]
  },
  {
   "cell_type": "code",
   "execution_count": 18,
   "metadata": {},
   "outputs": [
    {
     "name": "stdout",
     "output_type": "stream",
     "text": [
      "\r",
      "Running command:\n",
      "\tpython train_model.py --input_csv_path winequality-red.csv --output_checkpoint_path mymodel-pickle.sav --output_metrics_path auc.metric\n",
      "Index(['fixed acidity', 'volatile acidity', 'citric acid', 'residual sugar',\n",
      "       'chlorides', 'free sulfur dioxide', 'total sulfur dioxide', 'density',\n",
      "       'pH', 'sulphates', 'alcohol', 'quality'],\n",
      "      dtype='object')\n",
      "Training model...\n",
      "Evaluating metrics...\n",
      "R-score is 0.2510197384130355\n",
      "\r",
      "Adding 'mymodel-pickle.sav' to '.gitignore'.\n",
      "\r",
      "Output 'auc.metric' doesn't use cache. Skipping saving.\n",
      "\r",
      "Saving 'mymodel-pickle.sav' to '.dvc/cache/6a/0b64b054290a40b75cb61af5af5c88'.\n",
      "\r",
      "Saving information to 'train_model.dvc'.\n",
      "\r\n",
      "To track the changes with git run:\n",
      "\n",
      "\tgit add .gitignore train_model.dvc\n"
     ]
    }
   ],
   "source": [
    "%%bash\n",
    "dvc run \\\n",
    "    -f train_model.dvc \\\n",
    "    -d train_model.py -d 'winequality-red.csv' \\\n",
    "    -o 'mymodel-pickle.sav' \\\n",
    "    -M auc.metric \\\n",
    "    python train_model.py \\\n",
    "        --input_csv_path 'winequality-red.csv' \\\n",
    "        --output_checkpoint_path 'mymodel-pickle.sav' \\\n",
    "        --output_metrics_path 'auc.metric'"
   ]
  },
  {
   "cell_type": "markdown",
   "metadata": {},
   "source": [
    "Посмотрим, что изменилось:"
   ]
  },
  {
   "cell_type": "code",
   "execution_count": 19,
   "metadata": {},
   "outputs": [
    {
     "name": "stdout",
     "output_type": "stream",
     "text": [
      "На ветке master\r\n",
      "Ваша ветка обновлена в соответствии с «origin/master».\r\n",
      "\r\n",
      "Изменения, которые не в индексе для коммита:\r\n",
      "  (используйте «git add <файл>…», чтобы добавить файл в индекс)\r\n",
      "  (используйте «git checkout -- <файл>…», чтобы отменить изменения\r\n",
      "   в рабочем каталоге)\r\n",
      "\r\n",
      "\t\u001b[31mизменено:      .gitignore\u001b[m\r\n",
      "\t\u001b[31mизменено:      winequality-red.csv.dvc\u001b[m\r\n",
      "\r\n",
      "Неотслеживаемые файлы:\r\n",
      "  (используйте «git add <файл>…», чтобы добавить в то, что будет включено в коммит)\r\n",
      "\r\n",
      "\t\u001b[31mauc.metric\u001b[m\r\n",
      "\t\u001b[31mtrain_model.dvc\u001b[m\r\n",
      "\r\n",
      "нет изменений добавленных для коммита\r\n",
      "(используйте «git add» и/или «git commit -a»)\r\n"
     ]
    }
   ],
   "source": [
    "!git status"
   ]
  },
  {
   "cell_type": "markdown",
   "metadata": {},
   "source": [
    "Сохраним наш прогресс:"
   ]
  },
  {
   "cell_type": "code",
   "execution_count": 20,
   "metadata": {},
   "outputs": [
    {
     "name": "stdout",
     "output_type": "stream",
     "text": [
      "[master 2f5b701] Training pipeline\n",
      " 4 files changed, 25 insertions(+), 3 deletions(-)\n",
      " create mode 100644 auc.metric\n",
      " create mode 100644 train_model.dvc\n",
      "\r",
      "Preparing to upload data to '/home/nik/tmp_dvc/dvc_remote'\n",
      "\r",
      "Preparing to collect status from /home/nik/tmp_dvc/dvc_remote\n",
      "[##############################] 100% Collecting information\n",
      "[##############################] 100% Analysing status.\n",
      "(1/2): [##############################] 100% winequality-red.csv\n",
      "(2/2): [##############################] 100% mymodel-pickle.sav\n"
     ]
    },
    {
     "name": "stderr",
     "output_type": "stream",
     "text": [
      "To /home/nik/tmp_dvc/git_remote\n",
      "   7dbc04b..2f5b701  master -> master\n"
     ]
    }
   ],
   "source": [
    "%%bash\n",
    "git add .\n",
    "git commit -m \"Training pipeline\"\n",
    "\n",
    "# Запушить в DVC:\n",
    "dvc push -r myremote\n",
    "\n",
    "# Запушить в git:\n",
    "git push"
   ]
  },
  {
   "cell_type": "markdown",
   "metadata": {},
   "source": [
    "# Второй пользователь"
   ]
  },
  {
   "cell_type": "markdown",
   "metadata": {},
   "source": [
    "Давайте воспроизведем построенный пайплайн у второго пользователя"
   ]
  },
  {
   "cell_type": "markdown",
   "metadata": {},
   "source": [
    "Перейти в каталог второго пользователя:"
   ]
  },
  {
   "cell_type": "code",
   "execution_count": 21,
   "metadata": {},
   "outputs": [
    {
     "name": "stdout",
     "output_type": "stream",
     "text": [
      "/home/nik/tmp_dvc/Bob\n"
     ]
    }
   ],
   "source": [
    "%cd $BOB_DIR"
   ]
  },
  {
   "cell_type": "markdown",
   "metadata": {},
   "source": [
    "Клонируем репозиторий"
   ]
  },
  {
   "cell_type": "code",
   "execution_count": 22,
   "metadata": {},
   "outputs": [
    {
     "name": "stdout",
     "output_type": "stream",
     "text": [
      "Клонирование в «/home/nik/tmp_dvc/Bob»…\n",
      "готово.\n"
     ]
    }
   ],
   "source": [
    "!git clone $GIT_REMOTE $BOB_DIR"
   ]
  },
  {
   "cell_type": "markdown",
   "metadata": {},
   "source": [
    "Получаем данные из dvc:"
   ]
  },
  {
   "cell_type": "code",
   "execution_count": 23,
   "metadata": {},
   "outputs": [
    {
     "name": "stdout",
     "output_type": "stream",
     "text": [
      "\u001b[KPreparing to download data from '/home/nik/tmp_dvc/dvc_remote'\n",
      "\u001b[KPreparing to collect status from /home/nik/tmp_dvc/dvc_remote\n",
      "\u001b[K[##############################] 100% Collecting information\n",
      "\u001b[K[##############################] 100% Analysing status.\n",
      "\u001b[K(1/2): [##############################] 100% winequality-red.csv\n",
      "\u001b[K(2/2): [##############################] 100% mymodel-pickle.sav\n",
      "\u001b[K[##############################] 100% Checkout finished!\n",
      "\u001b[0m"
     ]
    }
   ],
   "source": [
    "!dvc pull -r myremote"
   ]
  },
  {
   "cell_type": "markdown",
   "metadata": {},
   "source": [
    "При выполнении `dvc pull` команда `dvc` проходить по файлам `*.dvc` и по прописанным внутри них хэшам понимает какие файлы нужно скачать."
   ]
  },
  {
   "cell_type": "markdown",
   "metadata": {},
   "source": [
    "Убедимся, что у нас актуальная версия данных:"
   ]
  },
  {
   "cell_type": "code",
   "execution_count": 24,
   "metadata": {},
   "outputs": [
    {
     "name": "stdout",
     "output_type": "stream",
     "text": [
      "\u001b[KPipeline is up to date. Nothing to reproduce.\n",
      "\u001b[0m"
     ]
    }
   ],
   "source": [
    "!dvc status"
   ]
  },
  {
   "cell_type": "markdown",
   "metadata": {},
   "source": [
    "Воспроизведем результаты первого пользователя:"
   ]
  },
  {
   "cell_type": "code",
   "execution_count": 25,
   "metadata": {},
   "outputs": [
    {
     "name": "stdout",
     "output_type": "stream",
     "text": [
      "\u001b[KStage 'winequality-red.csv.dvc' didn't change.\n",
      "\u001b[KStage 'train_model.dvc' didn't change.\n",
      "\u001b[KPipeline is up to date. Nothing to reproduce.\n",
      "\u001b[0m"
     ]
    }
   ],
   "source": [
    "!dvc repro train_model.dvc"
   ]
  },
  {
   "cell_type": "markdown",
   "metadata": {},
   "source": [
    "DVC убедился, что все текущие данные актуальны и переобучать модель не надо. \n",
    "Если бы требовалось переобучить модель, то dvc бы запустил скрипт для обучения."
   ]
  }
 ],
 "metadata": {
  "kernelspec": {
   "display_name": "Python 3",
   "language": "python",
   "name": "python3"
  },
  "language_info": {
   "codemirror_mode": {
    "name": "ipython",
    "version": 3
   },
   "file_extension": ".py",
   "mimetype": "text/x-python",
   "name": "python",
   "nbconvert_exporter": "python",
   "pygments_lexer": "ipython3",
   "version": "3.6.8"
  }
 },
 "nbformat": 4,
 "nbformat_minor": 2
}
